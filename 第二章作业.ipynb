{
 "cells": [
  {
   "cell_type": "code",
   "execution_count": null,
   "metadata": {},
   "outputs": [],
   "source": [
    "#第二章作业"
   ]
  },
  {
   "cell_type": "code",
   "execution_count": null,
   "metadata": {},
   "outputs": [],
   "source": [
    "#(1)用tensorflow实现两个数的加法，并在两个不同的会话中执行"
   ]
  },
  {
   "cell_type": "code",
   "execution_count": null,
   "metadata": {},
   "outputs": [],
   "source": [
    "%matplotlib inline\n",
    "import tensorflow as tf\n",
    "with tf.Graph().as_default() as g:\n",
    "    a = tf.add(3, 4)\n",
    "    \n",
    "with tf.Session(graph=g) as sess1:\n",
    "     print(sess1.run(a))\n",
    "     \n",
    "with tf.Session(graph=g) as sess2:\n",
    "     print(sess2.run(a))"
   ]
  },
  {
   "cell_type": "code",
   "execution_count": null,
   "metadata": {},
   "outputs": [],
   "source": [
    "#(2）tensorflow中执行常量基本运算APL的基本用法"
   ]
  },
  {
   "cell_type": "code",
   "execution_count": null,
   "metadata": {},
   "outputs": [],
   "source": [
    "tf.add(x, y) #代表x+y\n",
    "tf.subtract(x, y) #代表x-y\n",
    "tf.multiply #代表x*y\n",
    "tf。divide(x, y) #代表x/y\n",
    "tf.pow(x, y) #代表x的y次方"
   ]
  },
  {
   "cell_type": "code",
   "execution_count": null,
   "metadata": {},
   "outputs": [],
   "source": []
  }
 ],
 "metadata": {
  "kernelspec": {
   "display_name": "Python 3",
   "language": "python",
   "name": "python3"
  }
 },
 "nbformat": 4,
 "nbformat_minor": 2
}
